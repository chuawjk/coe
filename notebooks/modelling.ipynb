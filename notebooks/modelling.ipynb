{
 "cells": [
  {
   "cell_type": "markdown",
   "id": "d3feda7f",
   "metadata": {},
   "source": [
    "# COE Price Prediction and Quota Optimization Model\n",
    "\n",
    " \n",
    "## Business Context\n",
    "The Land Transport Authority (LTA) needs to better understand the relationship between \n",
    "COE quotas and prices to make informed policy decisions for price stabilization.\n",
    "This model addresses three key policy questions:\n",
    "1. Can we accurately predict COE prices across vehicle categories?\n",
    "2. How sensitive are prices to quota adjustments?\n",
    "3. What quota strategies can help stabilize volatile COE prices?"
   ]
  },
  {
   "cell_type": "code",
   "execution_count": 1,
   "id": "ed5be272",
   "metadata": {},
   "outputs": [
    {
     "name": "stderr",
     "output_type": "stream",
     "text": [
      "/opt/miniconda3/envs/coe/lib/python3.10/site-packages/tqdm/auto.py:21: TqdmWarning: IProgress not found. Please update jupyter and ipywidgets. See https://ipywidgets.readthedocs.io/en/stable/user_install.html\n",
      "  from .autonotebook import tqdm as notebook_tqdm\n",
      "Importing plotly failed. Interactive plots will not work.\n"
     ]
    }
   ],
   "source": [
    "import os\n",
    "import sys\n",
    "from pathlib import Path\n",
    "\n",
    "import matplotlib.pyplot as plt\n",
    "import numpy as np\n",
    "import pandas as pd\n",
    "from prophet import Prophet\n",
    "from prophet.diagnostics import cross_validation, performance_metrics\n",
    "from sklearn.metrics import root_mean_squared_error\n",
    "from sklearn.preprocessing import StandardScaler"
   ]
  },
  {
   "cell_type": "code",
   "execution_count": 2,
   "id": "699c214b",
   "metadata": {},
   "outputs": [],
   "source": [
    "sys.path.append(\"..\")\n",
    "\n",
    "from src.models import BaseModel, EnsembleModel\n",
    "from src.utils import TemporalCrossValidator"
   ]
  },
  {
   "cell_type": "markdown",
   "id": "254b248b",
   "metadata": {},
   "source": [
    "## Data Sources for Policy Analysis\n",
    "\n",
    "Historical COE bidding data provides the foundation for understanding price-quota dynamics.\n",
    "This dataset contains all critical variables for policy simulation:\n",
    "\n",
    "- Monthly quota allocations (policy lever)\n",
    "- Actual bid prices (policy outcome) \n",
    "- Bidding activity levels (market demand proxy)"
   ]
  },
  {
   "cell_type": "code",
   "execution_count": 3,
   "id": "4f30d1ab",
   "metadata": {},
   "outputs": [],
   "source": [
    "DATA_DIR = Path(os.getcwd()).parent / \"data\"\n",
    "COE_BIDDING_PATH = DATA_DIR / \"COEBiddingResultsPrices.csv\""
   ]
  },
  {
   "cell_type": "code",
   "execution_count": 4,
   "id": "5d46ff35",
   "metadata": {},
   "outputs": [],
   "source": [
    "original_df = pd.read_csv(COE_BIDDING_PATH)\n",
    "original_df['month'] = pd.to_datetime(original_df['month'])"
   ]
  },
  {
   "cell_type": "markdown",
   "id": "23b0a22e",
   "metadata": {},
   "source": [
    "## Data Preprocessing For Policy Modeling"
   ]
  },
  {
   "cell_type": "markdown",
   "id": "c3d4850f",
   "metadata": {},
   "source": [
    "Remove 'bids_success' as it is a form of outcome data not available at policy decision time. Policy makers need to predict prices based on quota decisions, not bidding outcomes:"
   ]
  },
  {
   "cell_type": "code",
   "execution_count": 5,
   "id": "42e963bf",
   "metadata": {},
   "outputs": [],
   "source": [
    "original_df.drop(columns=['bids_success'], inplace=True)"
   ]
  },
  {
   "cell_type": "markdown",
   "id": "d94a7386",
   "metadata": {},
   "source": [
    "Clean numerical columns to ensure robust model training so that they can be ingested for modelling:"
   ]
  },
  {
   "cell_type": "code",
   "execution_count": 6,
   "id": "848d553d",
   "metadata": {},
   "outputs": [],
   "source": [
    "numerical_cols = [\"bidding_no\", \"quota\", \"bids_received\", \"premium\"]\n",
    "for col in numerical_cols:\n",
    "    original_df[col] = original_df[col].astype(str).str.replace(',', '').astype(int)"
   ]
  },
  {
   "cell_type": "markdown",
   "id": "c0a423b9",
   "metadata": {},
   "source": [
    "Create dummy variables for each COE category:"
   ]
  },
  {
   "cell_type": "code",
   "execution_count": 7,
   "id": "fcf78b01",
   "metadata": {},
   "outputs": [],
   "source": [
    "vehicle_class_dummies = pd.get_dummies(original_df['vehicle_class'], prefix='vehicle_class')\n",
    "original_df = pd.concat([original_df, vehicle_class_dummies], axis=1)\n",
    "original_df.drop('vehicle_class', axis=1, inplace=True)"
   ]
  },
  {
   "cell_type": "markdown",
   "id": "c95d57a9",
   "metadata": {},
   "source": [
    "Rename columns for Prophet time series modeling. Prophet is chosen for its ability to handle volatility and seasonality in COE prices:"
   ]
  },
  {
   "cell_type": "code",
   "execution_count": 8,
   "id": "f7432604",
   "metadata": {},
   "outputs": [],
   "source": [
    "original_df = original_df.rename(columns={'month': 'ds', 'premium': 'y'})"
   ]
  },
  {
   "cell_type": "code",
   "execution_count": 9,
   "id": "c27cf242",
   "metadata": {},
   "outputs": [
    {
     "name": "stdout",
     "output_type": "stream",
     "text": [
      "Policy analysis data range: 2010-01-01 to 2025-07-01\n",
      "Total bidding records: 1840 (spanning 30.0 years of monthly data)\n"
     ]
    }
   ],
   "source": [
    "print(f\"Policy analysis data range: {original_df['ds'].min().date()} to {original_df['ds'].max().date()}\")\n",
    "print(f\"Total bidding records: {len(original_df)} (spanning {len(original_df)//60:.1f} years of monthly data)\")"
   ]
  },
  {
   "cell_type": "markdown",
   "id": "4a042c4e",
   "metadata": {},
   "source": [
    "## Cross-Validation with Sliding Windows\n",
    "\n",
    "We use sliding window cross-validation to evaluate model performance over time:\n",
    "- Training window: 1 year of data to capture recent market dynamics\n",
    "- Test window: 3 months ahead to match policy planning cycles  \n",
    "- Slide forward: Move windows by 3 months to simulate continuous model updates\n",
    "\n",
    "This approach:\n",
    "1. Preserves temporal order of data\n",
    "2. Simulates real-world policy deployment scenarios, where we periodically retrain and redeploy the model\n"
   ]
  },
  {
   "cell_type": "code",
   "execution_count": 10,
   "id": "c7d4a148",
   "metadata": {},
   "outputs": [
    {
     "name": "stdout",
     "output_type": "stream",
     "text": [
      "\\nPOLICY VALIDATION FRAMEWORK:\n",
      "Generated 53 validation periods simulating real-world deployment\n",
      "Training window: 1 year (captures recent market dynamics)\n",
      "Prediction horizon: 3 months (quarterly policy cycles)\n",
      "Model update frequency: Every 3 months\n",
      "\n",
      "Validation Timeline (simulating historical policy decisions):\n",
      "--------------------------------------------------------------------------------\n",
      "  Period  1: Train 2010-01 to 2010-12 → Predict 2011-01 to 2011-03 (120 samples → 30 predictions)\n",
      "  Period  2: Train 2010-04 to 2011-03 → Predict 2011-04 to 2011-06 (120 samples → 30 predictions)\n",
      "  Period  3: Train 2010-07 to 2011-06 → Predict 2011-07 to 2011-09 (120 samples → 30 predictions)\n",
      "  Period  4: Train 2010-10 to 2011-09 → Predict 2011-10 to 2011-12 (120 samples → 30 predictions)\n",
      "  Period  5: Train 2011-01 to 2011-12 → Predict 2012-01 to 2012-03 (120 samples → 30 predictions)\n",
      "  Period  6: Train 2011-04 to 2012-03 → Predict 2012-04 to 2012-06 (120 samples → 30 predictions)\n",
      "  Period  7: Train 2011-07 to 2012-06 → Predict 2012-07 to 2012-09 (120 samples → 30 predictions)\n",
      "  Period  8: Train 2011-10 to 2012-09 → Predict 2012-10 to 2012-12 (120 samples → 30 predictions)\n",
      "  Period  9: Train 2012-01 to 2012-12 → Predict 2013-01 to 2013-03 (120 samples → 30 predictions)\n",
      "  Period 10: Train 2012-04 to 2013-03 → Predict 2013-04 to 2013-06 (120 samples → 30 predictions)\n",
      "  Period 11: Train 2012-07 to 2013-06 → Predict 2013-07 to 2013-09 (120 samples → 30 predictions)\n",
      "  Period 12: Train 2012-10 to 2013-09 → Predict 2013-10 to 2013-12 (120 samples → 30 predictions)\n",
      "  Period 13: Train 2013-01 to 2013-12 → Predict 2014-01 to 2014-03 (120 samples → 30 predictions)\n",
      "  Period 14: Train 2013-04 to 2014-03 → Predict 2014-04 to 2014-06 (120 samples → 30 predictions)\n",
      "  Period 15: Train 2013-07 to 2014-06 → Predict 2014-07 to 2014-09 (120 samples → 30 predictions)\n",
      "  Period 16: Train 2013-10 to 2014-09 → Predict 2014-10 to 2014-12 (120 samples → 30 predictions)\n",
      "  Period 17: Train 2014-01 to 2014-12 → Predict 2015-01 to 2015-03 (120 samples → 30 predictions)\n",
      "  Period 18: Train 2014-04 to 2015-03 → Predict 2015-04 to 2015-06 (120 samples → 30 predictions)\n",
      "  Period 19: Train 2014-07 to 2015-06 → Predict 2015-07 to 2015-09 (120 samples → 30 predictions)\n",
      "  Period 20: Train 2014-10 to 2015-09 → Predict 2015-10 to 2015-12 (120 samples → 30 predictions)\n",
      "  Period 21: Train 2015-01 to 2015-12 → Predict 2016-01 to 2016-03 (120 samples → 30 predictions)\n",
      "  Period 22: Train 2015-04 to 2016-03 → Predict 2016-04 to 2016-06 (120 samples → 30 predictions)\n",
      "  Period 23: Train 2015-07 to 2016-06 → Predict 2016-07 to 2016-09 (120 samples → 30 predictions)\n",
      "  Period 24: Train 2015-10 to 2016-09 → Predict 2016-10 to 2016-12 (120 samples → 30 predictions)\n",
      "  Period 25: Train 2016-01 to 2016-12 → Predict 2017-01 to 2017-03 (120 samples → 30 predictions)\n",
      "  Period 26: Train 2016-04 to 2017-03 → Predict 2017-04 to 2017-06 (120 samples → 30 predictions)\n",
      "  Period 27: Train 2016-07 to 2017-06 → Predict 2017-07 to 2017-09 (120 samples → 30 predictions)\n",
      "  Period 28: Train 2016-10 to 2017-09 → Predict 2017-10 to 2017-12 (120 samples → 30 predictions)\n",
      "  Period 29: Train 2017-01 to 2017-12 → Predict 2018-01 to 2018-03 (120 samples → 30 predictions)\n",
      "  Period 30: Train 2017-04 to 2018-03 → Predict 2018-04 to 2018-06 (120 samples → 30 predictions)\n",
      "  Period 31: Train 2017-07 to 2018-06 → Predict 2018-07 to 2018-09 (120 samples → 30 predictions)\n",
      "  Period 32: Train 2017-10 to 2018-09 → Predict 2018-10 to 2018-12 (120 samples → 30 predictions)\n",
      "  Period 33: Train 2018-01 to 2018-12 → Predict 2019-01 to 2019-03 (120 samples → 30 predictions)\n",
      "  Period 34: Train 2018-04 to 2019-03 → Predict 2019-04 to 2019-06 (120 samples → 30 predictions)\n",
      "  Period 35: Train 2018-07 to 2019-06 → Predict 2019-07 to 2019-09 (120 samples → 30 predictions)\n",
      "  Period 36: Train 2018-10 to 2019-09 → Predict 2019-10 to 2019-12 (120 samples → 30 predictions)\n",
      "  Period 37: Train 2019-01 to 2019-12 → Predict 2020-01 to 2020-03 (120 samples → 30 predictions)\n",
      "  Period 38: Train 2020-07 to 2021-06 → Predict 2021-07 to 2021-09 (120 samples → 30 predictions)\n",
      "  Period 39: Train 2020-10 to 2021-09 → Predict 2021-10 to 2021-12 (120 samples → 30 predictions)\n",
      "  Period 40: Train 2021-01 to 2021-12 → Predict 2022-01 to 2022-03 (120 samples → 30 predictions)\n",
      "  Period 41: Train 2021-04 to 2022-03 → Predict 2022-04 to 2022-06 (120 samples → 30 predictions)\n",
      "  Period 42: Train 2021-07 to 2022-06 → Predict 2022-07 to 2022-09 (120 samples → 30 predictions)\n",
      "  Period 43: Train 2021-10 to 2022-09 → Predict 2022-10 to 2022-12 (120 samples → 30 predictions)\n",
      "  Period 44: Train 2022-01 to 2022-12 → Predict 2023-01 to 2023-03 (120 samples → 30 predictions)\n",
      "  Period 45: Train 2022-04 to 2023-03 → Predict 2023-04 to 2023-06 (120 samples → 30 predictions)\n",
      "  Period 46: Train 2022-07 to 2023-06 → Predict 2023-07 to 2023-09 (120 samples → 30 predictions)\n",
      "  Period 47: Train 2022-10 to 2023-09 → Predict 2023-10 to 2023-12 (120 samples → 30 predictions)\n",
      "  Period 48: Train 2023-01 to 2023-12 → Predict 2024-01 to 2024-03 (120 samples → 30 predictions)\n",
      "  Period 49: Train 2023-04 to 2024-03 → Predict 2024-04 to 2024-06 (120 samples → 30 predictions)\n",
      "  Period 50: Train 2023-07 to 2024-06 → Predict 2024-07 to 2024-09 (120 samples → 30 predictions)\n",
      "  Period 51: Train 2023-10 to 2024-09 → Predict 2024-10 to 2024-12 (120 samples → 30 predictions)\n",
      "  Period 52: Train 2024-01 to 2024-12 → Predict 2025-01 to 2025-03 (120 samples → 30 predictions)\n",
      "  Period 53: Train 2024-04 to 2025-03 → Predict 2025-04 to 2025-06 (120 samples → 30 predictions)\n"
     ]
    }
   ],
   "source": [
    "cv = TemporalCrossValidator(\n",
    "    initial_train_years=1,        # Balance between data volume and recency for volatile markets\n",
    "    test_period_months=3,         # Matches quarterly policy planning horizon\n",
    "    step_months=3,               # Continuous model updates as new data becomes available\n",
    ")\n",
    "\n",
    "# Generate time splits for rigorous policy validation\n",
    "splits = cv.get_time_splits(original_df)\n",
    "print(f\"\\\\nPOLICY VALIDATION FRAMEWORK:\")\n",
    "print(f\"Generated {len(splits)} validation periods simulating real-world deployment\")\n",
    "print(f\"Training window: {cv.initial_train_years} year (captures recent market dynamics)\")\n",
    "print(f\"Prediction horizon: {cv.test_period_months} months (quarterly policy cycles)\")\n",
    "print(f\"Model update frequency: Every {cv.step_months} months\")\n",
    "print()\n",
    "print(\"Validation Timeline (simulating historical policy decisions):\")\n",
    "print(\"-\" * 80)\n",
    "\n",
    "for split in splits:\n",
    "    print(f\"  Period {split['fold']:2d}: Train {split['train_start'].strftime('%Y-%m')} to {split['train_end'].strftime('%Y-%m')} \"\n",
    "          f\"→ Predict {split['test_start'].strftime('%Y-%m')} to {split['test_end'].strftime('%Y-%m')} \"\n",
    "          f\"({split['train_size']:3d} samples → {split['test_size']:2d} predictions)\")"
   ]
  },
  {
   "cell_type": "markdown",
   "id": "e9183a3e",
   "metadata": {},
   "source": [
    "The model is an ensemble of five smaller Prophet base models, one for each COE category. Depending on the input data, the model dynamically routes prediction tasks to the appropraite base model:"
   ]
  },
  {
   "cell_type": "code",
   "execution_count": 11,
   "id": "74998d3e",
   "metadata": {},
   "outputs": [],
   "source": [
    "# Define model function for temporal CV\n",
    "def ensemble_model_func(train_df, test_df):\n",
    "    \"\"\"\n",
    "    Model function for temporal CV evaluation\n",
    "    Takes train and test dataframes, returns predictions\n",
    "    \"\"\"\n",
    "    # Standardize features (quota and bids_received)\n",
    "    scaler = StandardScaler()\n",
    "    cols_to_scale = ['quota', 'bids_received']\n",
    "    \n",
    "    # Fit scaler on train data only\n",
    "    train_scaled = train_df.copy()\n",
    "    test_scaled = test_df.copy()\n",
    "    \n",
    "    train_scaled[cols_to_scale] = scaler.fit_transform(train_df[cols_to_scale].astype(float))\n",
    "    test_scaled[cols_to_scale] = scaler.transform(test_df[cols_to_scale].astype(float))\n",
    "    \n",
    "    # Create and fit ensemble model\n",
    "    vehicle_classes = ['Category A', 'Category B', 'Category C', 'Category D', 'Category E']\n",
    "    regressors = ['bidding_no', 'quota', 'bids_received']\n",
    "    \n",
    "    model = EnsembleModel(vehicle_classes, regressors)\n",
    "    model.fit(train_scaled)\n",
    "    \n",
    "    # Get predictions\n",
    "    predictions = model.predict(test_scaled)\n",
    "    \n",
    "    return predictions\n"
   ]
  },
  {
   "cell_type": "code",
   "execution_count": 8,
   "id": "e3abd02f",
   "metadata": {},
   "outputs": [
    {
     "name": "stderr",
     "output_type": "stream",
     "text": [
      "15:15:01 - cmdstanpy - INFO - Chain [1] start processing\n",
      "15:15:01 - cmdstanpy - INFO - Chain [1] done processing\n",
      "15:15:01 - cmdstanpy - INFO - Chain [1] start processing\n",
      "15:15:01 - cmdstanpy - INFO - Chain [1] done processing\n",
      "15:15:01 - cmdstanpy - INFO - Chain [1] start processing\n"
     ]
    },
    {
     "name": "stdout",
     "output_type": "stream",
     "text": [
      "Running Temporal Cross Validation...\n",
      "This may take several minutes as each fold trains 5 Prophet models...\n",
      "Fitting base models\n"
     ]
    },
    {
     "name": "stderr",
     "output_type": "stream",
     "text": [
      "15:15:01 - cmdstanpy - INFO - Chain [1] done processing\n",
      "15:15:01 - cmdstanpy - INFO - Chain [1] start processing\n",
      "15:15:01 - cmdstanpy - INFO - Chain [1] done processing\n",
      "15:15:01 - cmdstanpy - INFO - Chain [1] start processing\n",
      "15:15:01 - cmdstanpy - INFO - Chain [1] done processing\n",
      "15:15:01 - cmdstanpy - INFO - Chain [1] start processing\n",
      "15:15:02 - cmdstanpy - INFO - Chain [1] done processing\n",
      "15:15:02 - cmdstanpy - INFO - Chain [1] start processing\n",
      "15:15:02 - cmdstanpy - INFO - Chain [1] done processing\n",
      "15:15:02 - cmdstanpy - INFO - Chain [1] start processing\n",
      "15:15:02 - cmdstanpy - INFO - Chain [1] done processing\n",
      "15:15:02 - cmdstanpy - INFO - Chain [1] start processing\n"
     ]
    },
    {
     "name": "stdout",
     "output_type": "stream",
     "text": [
      "Fitting base models\n"
     ]
    },
    {
     "name": "stderr",
     "output_type": "stream",
     "text": [
      "15:15:02 - cmdstanpy - INFO - Chain [1] done processing\n",
      "15:15:02 - cmdstanpy - INFO - Chain [1] start processing\n",
      "15:15:02 - cmdstanpy - INFO - Chain [1] done processing\n",
      "15:15:02 - cmdstanpy - INFO - Chain [1] start processing\n",
      "15:15:02 - cmdstanpy - INFO - Chain [1] done processing\n",
      "15:15:02 - cmdstanpy - INFO - Chain [1] start processing\n",
      "15:15:02 - cmdstanpy - INFO - Chain [1] done processing\n",
      "15:15:02 - cmdstanpy - INFO - Chain [1] start processing\n",
      "15:15:02 - cmdstanpy - INFO - Chain [1] done processing\n",
      "15:15:02 - cmdstanpy - INFO - Chain [1] start processing\n",
      "15:15:02 - cmdstanpy - INFO - Chain [1] done processing\n",
      "15:15:02 - cmdstanpy - INFO - Chain [1] start processing\n"
     ]
    },
    {
     "name": "stdout",
     "output_type": "stream",
     "text": [
      "Fitting base models\n"
     ]
    },
    {
     "name": "stderr",
     "output_type": "stream",
     "text": [
      "15:15:02 - cmdstanpy - INFO - Chain [1] done processing\n",
      "15:15:02 - cmdstanpy - INFO - Chain [1] start processing\n",
      "15:15:02 - cmdstanpy - INFO - Chain [1] done processing\n",
      "15:15:02 - cmdstanpy - INFO - Chain [1] start processing\n",
      "15:15:02 - cmdstanpy - INFO - Chain [1] done processing\n",
      "15:15:02 - cmdstanpy - INFO - Chain [1] start processing\n",
      "15:15:02 - cmdstanpy - INFO - Chain [1] done processing\n",
      "15:15:02 - cmdstanpy - INFO - Chain [1] start processing\n"
     ]
    },
    {
     "name": "stdout",
     "output_type": "stream",
     "text": [
      "Fitting base models\n"
     ]
    },
    {
     "name": "stderr",
     "output_type": "stream",
     "text": [
      "15:15:02 - cmdstanpy - INFO - Chain [1] done processing\n",
      "15:15:02 - cmdstanpy - INFO - Chain [1] start processing\n",
      "15:15:02 - cmdstanpy - INFO - Chain [1] done processing\n",
      "15:15:02 - cmdstanpy - INFO - Chain [1] start processing\n",
      "15:15:02 - cmdstanpy - INFO - Chain [1] done processing\n",
      "15:15:03 - cmdstanpy - INFO - Chain [1] start processing\n",
      "15:15:03 - cmdstanpy - INFO - Chain [1] done processing\n",
      "15:15:03 - cmdstanpy - INFO - Chain [1] start processing\n",
      "15:15:03 - cmdstanpy - INFO - Chain [1] done processing\n",
      "15:15:03 - cmdstanpy - INFO - Chain [1] start processing\n",
      "15:15:03 - cmdstanpy - INFO - Chain [1] done processing\n",
      "15:15:03 - cmdstanpy - INFO - Chain [1] start processing\n"
     ]
    },
    {
     "name": "stdout",
     "output_type": "stream",
     "text": [
      "Fitting base models\n"
     ]
    },
    {
     "name": "stderr",
     "output_type": "stream",
     "text": [
      "15:15:03 - cmdstanpy - INFO - Chain [1] done processing\n",
      "15:15:03 - cmdstanpy - INFO - Chain [1] start processing\n",
      "15:15:03 - cmdstanpy - INFO - Chain [1] done processing\n",
      "15:15:03 - cmdstanpy - INFO - Chain [1] start processing\n",
      "15:15:03 - cmdstanpy - INFO - Chain [1] done processing\n",
      "15:15:03 - cmdstanpy - INFO - Chain [1] start processing\n",
      "15:15:03 - cmdstanpy - INFO - Chain [1] done processing\n",
      "15:15:03 - cmdstanpy - INFO - Chain [1] start processing\n",
      "15:15:03 - cmdstanpy - INFO - Chain [1] done processing\n"
     ]
    },
    {
     "name": "stdout",
     "output_type": "stream",
     "text": [
      "Fitting base models\n"
     ]
    },
    {
     "name": "stderr",
     "output_type": "stream",
     "text": [
      "15:15:03 - cmdstanpy - INFO - Chain [1] start processing\n",
      "15:15:03 - cmdstanpy - INFO - Chain [1] done processing\n",
      "15:15:03 - cmdstanpy - INFO - Chain [1] start processing\n",
      "15:15:03 - cmdstanpy - INFO - Chain [1] done processing\n",
      "15:15:03 - cmdstanpy - INFO - Chain [1] start processing\n",
      "15:15:03 - cmdstanpy - INFO - Chain [1] done processing\n",
      "15:15:03 - cmdstanpy - INFO - Chain [1] start processing\n",
      "15:15:03 - cmdstanpy - INFO - Chain [1] done processing\n",
      "15:15:03 - cmdstanpy - INFO - Chain [1] start processing\n",
      "15:15:03 - cmdstanpy - INFO - Chain [1] done processing\n",
      "15:15:03 - cmdstanpy - INFO - Chain [1] start processing\n"
     ]
    },
    {
     "name": "stdout",
     "output_type": "stream",
     "text": [
      "Fitting base models\n"
     ]
    },
    {
     "name": "stderr",
     "output_type": "stream",
     "text": [
      "15:15:03 - cmdstanpy - INFO - Chain [1] done processing\n",
      "15:15:03 - cmdstanpy - INFO - Chain [1] start processing\n",
      "15:15:03 - cmdstanpy - INFO - Chain [1] done processing\n",
      "15:15:03 - cmdstanpy - INFO - Chain [1] start processing\n",
      "15:15:03 - cmdstanpy - INFO - Chain [1] done processing\n",
      "15:15:03 - cmdstanpy - INFO - Chain [1] start processing\n",
      "15:15:04 - cmdstanpy - INFO - Chain [1] done processing\n",
      "15:15:04 - cmdstanpy - INFO - Chain [1] start processing\n",
      "15:15:04 - cmdstanpy - INFO - Chain [1] done processing\n",
      "15:15:04 - cmdstanpy - INFO - Chain [1] start processing\n"
     ]
    },
    {
     "name": "stdout",
     "output_type": "stream",
     "text": [
      "Fitting base models\n"
     ]
    },
    {
     "name": "stderr",
     "output_type": "stream",
     "text": [
      "15:15:04 - cmdstanpy - INFO - Chain [1] done processing\n",
      "15:15:04 - cmdstanpy - INFO - Chain [1] start processing\n",
      "15:15:04 - cmdstanpy - INFO - Chain [1] done processing\n",
      "15:15:04 - cmdstanpy - INFO - Chain [1] start processing\n",
      "15:15:04 - cmdstanpy - INFO - Chain [1] done processing\n",
      "15:15:04 - cmdstanpy - INFO - Chain [1] start processing\n",
      "15:15:04 - cmdstanpy - INFO - Chain [1] done processing\n"
     ]
    },
    {
     "name": "stdout",
     "output_type": "stream",
     "text": [
      "Fitting base models\n"
     ]
    },
    {
     "name": "stderr",
     "output_type": "stream",
     "text": [
      "15:15:04 - cmdstanpy - INFO - Chain [1] start processing\n",
      "15:15:04 - cmdstanpy - INFO - Chain [1] done processing\n",
      "15:15:04 - cmdstanpy - INFO - Chain [1] start processing\n",
      "15:15:04 - cmdstanpy - INFO - Chain [1] done processing\n",
      "15:15:04 - cmdstanpy - INFO - Chain [1] start processing\n",
      "15:15:04 - cmdstanpy - INFO - Chain [1] done processing\n",
      "15:15:04 - cmdstanpy - INFO - Chain [1] start processing\n",
      "15:15:04 - cmdstanpy - INFO - Chain [1] done processing\n",
      "15:15:04 - cmdstanpy - INFO - Chain [1] start processing\n",
      "15:15:04 - cmdstanpy - INFO - Chain [1] done processing\n",
      "15:15:04 - cmdstanpy - INFO - Chain [1] start processing\n"
     ]
    },
    {
     "name": "stdout",
     "output_type": "stream",
     "text": [
      "Fitting base models\n"
     ]
    },
    {
     "name": "stderr",
     "output_type": "stream",
     "text": [
      "15:15:04 - cmdstanpy - INFO - Chain [1] done processing\n",
      "15:15:04 - cmdstanpy - INFO - Chain [1] start processing\n",
      "15:15:04 - cmdstanpy - INFO - Chain [1] done processing\n",
      "15:15:04 - cmdstanpy - INFO - Chain [1] start processing\n",
      "15:15:04 - cmdstanpy - INFO - Chain [1] done processing\n",
      "15:15:04 - cmdstanpy - INFO - Chain [1] start processing\n",
      "15:15:04 - cmdstanpy - INFO - Chain [1] done processing\n",
      "15:15:05 - cmdstanpy - INFO - Chain [1] start processing\n",
      "15:15:05 - cmdstanpy - INFO - Chain [1] done processing\n",
      "15:15:05 - cmdstanpy - INFO - Chain [1] start processing\n",
      "15:15:05 - cmdstanpy - INFO - Chain [1] done processing\n",
      "15:15:05 - cmdstanpy - INFO - Chain [1] start processing\n"
     ]
    },
    {
     "name": "stdout",
     "output_type": "stream",
     "text": [
      "Fitting base models\n"
     ]
    },
    {
     "name": "stderr",
     "output_type": "stream",
     "text": [
      "15:15:05 - cmdstanpy - INFO - Chain [1] done processing\n",
      "15:15:05 - cmdstanpy - INFO - Chain [1] start processing\n",
      "15:15:05 - cmdstanpy - INFO - Chain [1] done processing\n",
      "15:15:05 - cmdstanpy - INFO - Chain [1] start processing\n",
      "15:15:05 - cmdstanpy - INFO - Chain [1] done processing\n",
      "15:15:05 - cmdstanpy - INFO - Chain [1] start processing\n",
      "15:15:05 - cmdstanpy - INFO - Chain [1] done processing\n",
      "15:15:05 - cmdstanpy - INFO - Chain [1] start processing\n"
     ]
    },
    {
     "name": "stdout",
     "output_type": "stream",
     "text": [
      "Fitting base models\n"
     ]
    },
    {
     "name": "stderr",
     "output_type": "stream",
     "text": [
      "15:15:05 - cmdstanpy - INFO - Chain [1] done processing\n",
      "15:15:05 - cmdstanpy - INFO - Chain [1] start processing\n",
      "15:15:05 - cmdstanpy - INFO - Chain [1] done processing\n",
      "15:15:05 - cmdstanpy - INFO - Chain [1] start processing\n",
      "15:15:05 - cmdstanpy - INFO - Chain [1] done processing\n",
      "15:15:05 - cmdstanpy - INFO - Chain [1] start processing\n",
      "15:15:05 - cmdstanpy - INFO - Chain [1] done processing\n",
      "15:15:05 - cmdstanpy - INFO - Chain [1] start processing\n",
      "15:15:05 - cmdstanpy - INFO - Chain [1] done processing\n",
      "15:15:05 - cmdstanpy - INFO - Chain [1] start processing\n",
      "15:15:05 - cmdstanpy - INFO - Chain [1] done processing\n",
      "15:15:05 - cmdstanpy - INFO - Chain [1] start processing\n"
     ]
    },
    {
     "name": "stdout",
     "output_type": "stream",
     "text": [
      "Fitting base models\n"
     ]
    },
    {
     "name": "stderr",
     "output_type": "stream",
     "text": [
      "15:15:05 - cmdstanpy - INFO - Chain [1] done processing\n",
      "15:15:05 - cmdstanpy - INFO - Chain [1] start processing\n",
      "15:15:05 - cmdstanpy - INFO - Chain [1] done processing\n",
      "15:15:05 - cmdstanpy - INFO - Chain [1] start processing\n",
      "15:15:05 - cmdstanpy - INFO - Chain [1] done processing\n",
      "15:15:05 - cmdstanpy - INFO - Chain [1] start processing\n",
      "15:15:05 - cmdstanpy - INFO - Chain [1] done processing\n",
      "15:15:05 - cmdstanpy - INFO - Chain [1] start processing\n"
     ]
    },
    {
     "name": "stdout",
     "output_type": "stream",
     "text": [
      "Fitting base models\n"
     ]
    },
    {
     "name": "stderr",
     "output_type": "stream",
     "text": [
      "15:15:06 - cmdstanpy - INFO - Chain [1] done processing\n",
      "15:15:06 - cmdstanpy - INFO - Chain [1] start processing\n",
      "15:15:06 - cmdstanpy - INFO - Chain [1] done processing\n",
      "15:15:06 - cmdstanpy - INFO - Chain [1] start processing\n",
      "15:15:06 - cmdstanpy - INFO - Chain [1] done processing\n",
      "15:15:06 - cmdstanpy - INFO - Chain [1] start processing\n",
      "15:15:06 - cmdstanpy - INFO - Chain [1] done processing\n",
      "15:15:06 - cmdstanpy - INFO - Chain [1] start processing\n",
      "15:15:06 - cmdstanpy - INFO - Chain [1] done processing\n",
      "15:15:06 - cmdstanpy - INFO - Chain [1] start processing\n",
      "15:15:06 - cmdstanpy - INFO - Chain [1] done processing\n",
      "15:15:06 - cmdstanpy - INFO - Chain [1] start processing\n"
     ]
    },
    {
     "name": "stdout",
     "output_type": "stream",
     "text": [
      "Fitting base models\n"
     ]
    },
    {
     "name": "stderr",
     "output_type": "stream",
     "text": [
      "15:15:06 - cmdstanpy - INFO - Chain [1] done processing\n",
      "15:15:06 - cmdstanpy - INFO - Chain [1] start processing\n",
      "15:15:06 - cmdstanpy - INFO - Chain [1] done processing\n",
      "15:15:06 - cmdstanpy - INFO - Chain [1] start processing\n",
      "15:15:06 - cmdstanpy - INFO - Chain [1] done processing\n",
      "15:15:06 - cmdstanpy - INFO - Chain [1] start processing\n",
      "15:15:06 - cmdstanpy - INFO - Chain [1] done processing\n",
      "15:15:06 - cmdstanpy - INFO - Chain [1] start processing\n"
     ]
    },
    {
     "name": "stdout",
     "output_type": "stream",
     "text": [
      "Fitting base models\n"
     ]
    },
    {
     "name": "stderr",
     "output_type": "stream",
     "text": [
      "15:15:06 - cmdstanpy - INFO - Chain [1] done processing\n",
      "15:15:06 - cmdstanpy - INFO - Chain [1] start processing\n",
      "15:15:06 - cmdstanpy - INFO - Chain [1] done processing\n",
      "15:15:06 - cmdstanpy - INFO - Chain [1] start processing\n",
      "15:15:06 - cmdstanpy - INFO - Chain [1] done processing\n",
      "15:15:06 - cmdstanpy - INFO - Chain [1] start processing\n",
      "15:15:06 - cmdstanpy - INFO - Chain [1] done processing\n",
      "15:15:06 - cmdstanpy - INFO - Chain [1] start processing\n",
      "15:15:06 - cmdstanpy - INFO - Chain [1] done processing\n",
      "15:15:07 - cmdstanpy - INFO - Chain [1] start processing\n",
      "15:15:07 - cmdstanpy - INFO - Chain [1] done processing\n"
     ]
    },
    {
     "name": "stdout",
     "output_type": "stream",
     "text": [
      "Fitting base models\n"
     ]
    },
    {
     "name": "stderr",
     "output_type": "stream",
     "text": [
      "15:15:07 - cmdstanpy - INFO - Chain [1] start processing\n",
      "15:15:07 - cmdstanpy - INFO - Chain [1] done processing\n",
      "15:15:07 - cmdstanpy - INFO - Chain [1] start processing\n",
      "15:15:07 - cmdstanpy - INFO - Chain [1] done processing\n",
      "15:15:07 - cmdstanpy - INFO - Chain [1] start processing\n",
      "15:15:07 - cmdstanpy - INFO - Chain [1] done processing\n",
      "15:15:07 - cmdstanpy - INFO - Chain [1] start processing\n",
      "15:15:07 - cmdstanpy - INFO - Chain [1] done processing\n",
      "15:15:07 - cmdstanpy - INFO - Chain [1] start processing\n"
     ]
    },
    {
     "name": "stdout",
     "output_type": "stream",
     "text": [
      "Fitting base models\n"
     ]
    },
    {
     "name": "stderr",
     "output_type": "stream",
     "text": [
      "15:15:07 - cmdstanpy - INFO - Chain [1] done processing\n",
      "15:15:07 - cmdstanpy - INFO - Chain [1] start processing\n",
      "15:15:07 - cmdstanpy - INFO - Chain [1] done processing\n",
      "15:15:07 - cmdstanpy - INFO - Chain [1] start processing\n",
      "15:15:07 - cmdstanpy - INFO - Chain [1] done processing\n",
      "15:15:07 - cmdstanpy - INFO - Chain [1] start processing\n",
      "15:15:07 - cmdstanpy - INFO - Chain [1] done processing\n",
      "15:15:07 - cmdstanpy - INFO - Chain [1] start processing\n",
      "15:15:07 - cmdstanpy - INFO - Chain [1] done processing\n",
      "15:15:07 - cmdstanpy - INFO - Chain [1] start processing\n"
     ]
    },
    {
     "name": "stdout",
     "output_type": "stream",
     "text": [
      "Fitting base models\n"
     ]
    },
    {
     "name": "stderr",
     "output_type": "stream",
     "text": [
      "15:15:07 - cmdstanpy - INFO - Chain [1] done processing\n",
      "15:15:07 - cmdstanpy - INFO - Chain [1] start processing\n",
      "15:15:07 - cmdstanpy - INFO - Chain [1] done processing\n",
      "15:15:07 - cmdstanpy - INFO - Chain [1] start processing\n",
      "15:15:07 - cmdstanpy - INFO - Chain [1] done processing\n",
      "15:15:07 - cmdstanpy - INFO - Chain [1] start processing\n",
      "15:15:07 - cmdstanpy - INFO - Chain [1] done processing\n",
      "15:15:07 - cmdstanpy - INFO - Chain [1] start processing\n",
      "15:15:07 - cmdstanpy - INFO - Chain [1] done processing\n",
      "15:15:07 - cmdstanpy - INFO - Chain [1] start processing\n",
      "15:15:08 - cmdstanpy - INFO - Chain [1] done processing\n",
      "15:15:08 - cmdstanpy - INFO - Chain [1] start processing\n"
     ]
    },
    {
     "name": "stdout",
     "output_type": "stream",
     "text": [
      "Fitting base models\n"
     ]
    },
    {
     "name": "stderr",
     "output_type": "stream",
     "text": [
      "15:15:08 - cmdstanpy - INFO - Chain [1] done processing\n",
      "15:15:08 - cmdstanpy - INFO - Chain [1] start processing\n",
      "15:15:08 - cmdstanpy - INFO - Chain [1] done processing\n",
      "15:15:08 - cmdstanpy - INFO - Chain [1] start processing\n",
      "15:15:08 - cmdstanpy - INFO - Chain [1] done processing\n",
      "15:15:08 - cmdstanpy - INFO - Chain [1] start processing\n",
      "15:15:08 - cmdstanpy - INFO - Chain [1] done processing\n",
      "15:15:08 - cmdstanpy - INFO - Chain [1] start processing\n"
     ]
    },
    {
     "name": "stdout",
     "output_type": "stream",
     "text": [
      "Fitting base models\n"
     ]
    },
    {
     "name": "stderr",
     "output_type": "stream",
     "text": [
      "15:15:08 - cmdstanpy - INFO - Chain [1] done processing\n",
      "15:15:08 - cmdstanpy - INFO - Chain [1] start processing\n",
      "15:15:08 - cmdstanpy - INFO - Chain [1] done processing\n",
      "15:15:08 - cmdstanpy - INFO - Chain [1] start processing\n",
      "15:15:08 - cmdstanpy - INFO - Chain [1] done processing\n",
      "15:15:08 - cmdstanpy - INFO - Chain [1] start processing\n",
      "15:15:08 - cmdstanpy - INFO - Chain [1] done processing\n",
      "15:15:08 - cmdstanpy - INFO - Chain [1] start processing\n"
     ]
    },
    {
     "name": "stdout",
     "output_type": "stream",
     "text": [
      "Fitting base models\n"
     ]
    },
    {
     "name": "stderr",
     "output_type": "stream",
     "text": [
      "15:15:08 - cmdstanpy - INFO - Chain [1] done processing\n",
      "15:15:08 - cmdstanpy - INFO - Chain [1] start processing\n",
      "15:15:08 - cmdstanpy - INFO - Chain [1] done processing\n",
      "15:15:08 - cmdstanpy - INFO - Chain [1] start processing\n",
      "15:15:08 - cmdstanpy - INFO - Chain [1] done processing\n",
      "15:15:08 - cmdstanpy - INFO - Chain [1] start processing\n",
      "15:15:08 - cmdstanpy - INFO - Chain [1] done processing\n",
      "15:15:08 - cmdstanpy - INFO - Chain [1] start processing\n",
      "15:15:08 - cmdstanpy - INFO - Chain [1] done processing\n",
      "15:15:08 - cmdstanpy - INFO - Chain [1] start processing\n",
      "15:15:09 - cmdstanpy - INFO - Chain [1] done processing\n",
      "15:15:09 - cmdstanpy - INFO - Chain [1] start processing\n"
     ]
    },
    {
     "name": "stdout",
     "output_type": "stream",
     "text": [
      "Fitting base models\n"
     ]
    },
    {
     "name": "stderr",
     "output_type": "stream",
     "text": [
      "15:15:09 - cmdstanpy - INFO - Chain [1] done processing\n",
      "15:15:09 - cmdstanpy - INFO - Chain [1] start processing\n",
      "15:15:09 - cmdstanpy - INFO - Chain [1] done processing\n",
      "15:15:09 - cmdstanpy - INFO - Chain [1] start processing\n",
      "15:15:09 - cmdstanpy - INFO - Chain [1] done processing\n",
      "15:15:09 - cmdstanpy - INFO - Chain [1] start processing\n",
      "15:15:09 - cmdstanpy - INFO - Chain [1] done processing\n",
      "15:15:09 - cmdstanpy - INFO - Chain [1] start processing\n",
      "15:15:09 - cmdstanpy - INFO - Chain [1] done processing\n"
     ]
    },
    {
     "name": "stdout",
     "output_type": "stream",
     "text": [
      "Fitting base models\n"
     ]
    },
    {
     "name": "stderr",
     "output_type": "stream",
     "text": [
      "15:15:09 - cmdstanpy - INFO - Chain [1] start processing\n",
      "15:15:09 - cmdstanpy - INFO - Chain [1] done processing\n",
      "15:15:09 - cmdstanpy - INFO - Chain [1] start processing\n",
      "15:15:09 - cmdstanpy - INFO - Chain [1] done processing\n",
      "15:15:09 - cmdstanpy - INFO - Chain [1] start processing\n",
      "15:15:09 - cmdstanpy - INFO - Chain [1] done processing\n",
      "15:15:09 - cmdstanpy - INFO - Chain [1] start processing\n",
      "15:15:09 - cmdstanpy - INFO - Chain [1] done processing\n",
      "15:15:09 - cmdstanpy - INFO - Chain [1] start processing\n",
      "15:15:09 - cmdstanpy - INFO - Chain [1] done processing\n",
      "15:15:09 - cmdstanpy - INFO - Chain [1] start processing\n",
      "15:15:09 - cmdstanpy - INFO - Chain [1] done processing\n",
      "15:15:09 - cmdstanpy - INFO - Chain [1] start processing\n"
     ]
    },
    {
     "name": "stdout",
     "output_type": "stream",
     "text": [
      "Fitting base models\n"
     ]
    },
    {
     "name": "stderr",
     "output_type": "stream",
     "text": [
      "15:15:09 - cmdstanpy - INFO - Chain [1] done processing\n",
      "15:15:09 - cmdstanpy - INFO - Chain [1] start processing\n",
      "15:15:09 - cmdstanpy - INFO - Chain [1] done processing\n",
      "15:15:09 - cmdstanpy - INFO - Chain [1] start processing\n",
      "15:15:09 - cmdstanpy - INFO - Chain [1] done processing\n",
      "15:15:09 - cmdstanpy - INFO - Chain [1] start processing\n",
      "15:15:09 - cmdstanpy - INFO - Chain [1] done processing\n",
      "15:15:10 - cmdstanpy - INFO - Chain [1] start processing\n",
      "15:15:10 - cmdstanpy - INFO - Chain [1] done processing\n"
     ]
    },
    {
     "name": "stdout",
     "output_type": "stream",
     "text": [
      "Fitting base models\n"
     ]
    },
    {
     "name": "stderr",
     "output_type": "stream",
     "text": [
      "15:15:10 - cmdstanpy - INFO - Chain [1] start processing\n",
      "15:15:10 - cmdstanpy - INFO - Chain [1] done processing\n",
      "15:15:10 - cmdstanpy - INFO - Chain [1] start processing\n",
      "15:15:10 - cmdstanpy - INFO - Chain [1] done processing\n",
      "15:15:10 - cmdstanpy - INFO - Chain [1] start processing\n",
      "15:15:10 - cmdstanpy - INFO - Chain [1] done processing\n",
      "15:15:10 - cmdstanpy - INFO - Chain [1] start processing\n",
      "15:15:10 - cmdstanpy - INFO - Chain [1] done processing\n",
      "15:15:10 - cmdstanpy - INFO - Chain [1] start processing\n"
     ]
    },
    {
     "name": "stdout",
     "output_type": "stream",
     "text": [
      "Fitting base models\n"
     ]
    },
    {
     "name": "stderr",
     "output_type": "stream",
     "text": [
      "15:15:10 - cmdstanpy - INFO - Chain [1] done processing\n",
      "15:15:10 - cmdstanpy - INFO - Chain [1] start processing\n",
      "15:15:10 - cmdstanpy - INFO - Chain [1] done processing\n",
      "15:15:10 - cmdstanpy - INFO - Chain [1] start processing\n",
      "15:15:10 - cmdstanpy - INFO - Chain [1] done processing\n",
      "15:15:10 - cmdstanpy - INFO - Chain [1] start processing\n",
      "15:15:10 - cmdstanpy - INFO - Chain [1] done processing\n",
      "15:15:10 - cmdstanpy - INFO - Chain [1] start processing\n",
      "15:15:10 - cmdstanpy - INFO - Chain [1] done processing\n",
      "15:15:10 - cmdstanpy - INFO - Chain [1] start processing\n"
     ]
    },
    {
     "name": "stdout",
     "output_type": "stream",
     "text": [
      "Fitting base models\n"
     ]
    },
    {
     "name": "stderr",
     "output_type": "stream",
     "text": [
      "15:15:10 - cmdstanpy - INFO - Chain [1] done processing\n",
      "15:15:10 - cmdstanpy - INFO - Chain [1] start processing\n",
      "15:15:10 - cmdstanpy - INFO - Chain [1] done processing\n",
      "15:15:10 - cmdstanpy - INFO - Chain [1] start processing\n",
      "15:15:10 - cmdstanpy - INFO - Chain [1] done processing\n",
      "15:15:10 - cmdstanpy - INFO - Chain [1] start processing\n",
      "15:15:10 - cmdstanpy - INFO - Chain [1] done processing\n",
      "15:15:10 - cmdstanpy - INFO - Chain [1] start processing\n",
      "15:15:10 - cmdstanpy - INFO - Chain [1] done processing\n",
      "15:15:10 - cmdstanpy - INFO - Chain [1] start processing\n",
      "15:15:11 - cmdstanpy - INFO - Chain [1] done processing\n",
      "15:15:11 - cmdstanpy - INFO - Chain [1] start processing\n"
     ]
    },
    {
     "name": "stdout",
     "output_type": "stream",
     "text": [
      "Fitting base models\n"
     ]
    },
    {
     "name": "stderr",
     "output_type": "stream",
     "text": [
      "15:15:11 - cmdstanpy - INFO - Chain [1] done processing\n",
      "15:15:11 - cmdstanpy - INFO - Chain [1] start processing\n",
      "15:15:11 - cmdstanpy - INFO - Chain [1] done processing\n",
      "15:15:11 - cmdstanpy - INFO - Chain [1] start processing\n",
      "15:15:11 - cmdstanpy - INFO - Chain [1] done processing\n",
      "15:15:11 - cmdstanpy - INFO - Chain [1] start processing\n",
      "15:15:11 - cmdstanpy - INFO - Chain [1] done processing\n",
      "15:15:11 - cmdstanpy - INFO - Chain [1] start processing\n",
      "15:15:11 - cmdstanpy - INFO - Chain [1] done processing\n",
      "15:15:11 - cmdstanpy - INFO - Chain [1] start processing\n"
     ]
    },
    {
     "name": "stdout",
     "output_type": "stream",
     "text": [
      "Fitting base models\n"
     ]
    },
    {
     "name": "stderr",
     "output_type": "stream",
     "text": [
      "15:15:11 - cmdstanpy - INFO - Chain [1] done processing\n",
      "15:15:11 - cmdstanpy - INFO - Chain [1] start processing\n",
      "15:15:11 - cmdstanpy - INFO - Chain [1] done processing\n",
      "15:15:11 - cmdstanpy - INFO - Chain [1] start processing\n",
      "15:15:11 - cmdstanpy - INFO - Chain [1] done processing\n",
      "15:15:11 - cmdstanpy - INFO - Chain [1] start processing\n",
      "15:15:11 - cmdstanpy - INFO - Chain [1] done processing\n",
      "15:15:11 - cmdstanpy - INFO - Chain [1] start processing\n"
     ]
    },
    {
     "name": "stdout",
     "output_type": "stream",
     "text": [
      "Fitting base models\n"
     ]
    },
    {
     "name": "stderr",
     "output_type": "stream",
     "text": [
      "15:15:11 - cmdstanpy - INFO - Chain [1] done processing\n",
      "15:15:11 - cmdstanpy - INFO - Chain [1] start processing\n",
      "15:15:11 - cmdstanpy - INFO - Chain [1] done processing\n",
      "15:15:11 - cmdstanpy - INFO - Chain [1] start processing\n",
      "15:15:11 - cmdstanpy - INFO - Chain [1] done processing\n",
      "15:15:11 - cmdstanpy - INFO - Chain [1] start processing\n",
      "15:15:11 - cmdstanpy - INFO - Chain [1] done processing\n",
      "15:15:11 - cmdstanpy - INFO - Chain [1] start processing\n",
      "15:15:11 - cmdstanpy - INFO - Chain [1] done processing\n",
      "15:15:11 - cmdstanpy - INFO - Chain [1] start processing\n"
     ]
    },
    {
     "name": "stdout",
     "output_type": "stream",
     "text": [
      "Fitting base models\n"
     ]
    },
    {
     "name": "stderr",
     "output_type": "stream",
     "text": [
      "15:15:11 - cmdstanpy - INFO - Chain [1] done processing\n",
      "15:15:11 - cmdstanpy - INFO - Chain [1] start processing\n",
      "15:15:12 - cmdstanpy - INFO - Chain [1] done processing\n",
      "15:15:12 - cmdstanpy - INFO - Chain [1] start processing\n",
      "15:15:12 - cmdstanpy - INFO - Chain [1] done processing\n",
      "15:15:12 - cmdstanpy - INFO - Chain [1] start processing\n",
      "15:15:12 - cmdstanpy - INFO - Chain [1] done processing\n",
      "15:15:12 - cmdstanpy - INFO - Chain [1] start processing\n",
      "15:15:12 - cmdstanpy - INFO - Chain [1] done processing\n",
      "15:15:12 - cmdstanpy - INFO - Chain [1] start processing\n"
     ]
    },
    {
     "name": "stdout",
     "output_type": "stream",
     "text": [
      "Fitting base models\n"
     ]
    },
    {
     "name": "stderr",
     "output_type": "stream",
     "text": [
      "15:15:12 - cmdstanpy - INFO - Chain [1] done processing\n",
      "15:15:12 - cmdstanpy - INFO - Chain [1] start processing\n",
      "15:15:12 - cmdstanpy - INFO - Chain [1] done processing\n",
      "15:15:12 - cmdstanpy - INFO - Chain [1] start processing\n",
      "15:15:12 - cmdstanpy - INFO - Chain [1] done processing\n",
      "15:15:12 - cmdstanpy - INFO - Chain [1] start processing\n",
      "15:15:12 - cmdstanpy - INFO - Chain [1] done processing\n",
      "15:15:12 - cmdstanpy - INFO - Chain [1] start processing\n",
      "15:15:12 - cmdstanpy - INFO - Chain [1] done processing\n",
      "15:15:12 - cmdstanpy - INFO - Chain [1] start processing\n"
     ]
    },
    {
     "name": "stdout",
     "output_type": "stream",
     "text": [
      "Fitting base models\n"
     ]
    },
    {
     "name": "stderr",
     "output_type": "stream",
     "text": [
      "15:15:12 - cmdstanpy - INFO - Chain [1] done processing\n",
      "15:15:12 - cmdstanpy - INFO - Chain [1] start processing\n",
      "15:15:12 - cmdstanpy - INFO - Chain [1] done processing\n",
      "15:15:12 - cmdstanpy - INFO - Chain [1] start processing\n",
      "15:15:12 - cmdstanpy - INFO - Chain [1] done processing\n",
      "15:15:12 - cmdstanpy - INFO - Chain [1] start processing\n",
      "15:15:12 - cmdstanpy - INFO - Chain [1] done processing\n",
      "15:15:12 - cmdstanpy - INFO - Chain [1] start processing\n",
      "15:15:12 - cmdstanpy - INFO - Chain [1] done processing\n",
      "15:15:12 - cmdstanpy - INFO - Chain [1] start processing\n",
      "15:15:12 - cmdstanpy - INFO - Chain [1] done processing\n",
      "15:15:12 - cmdstanpy - INFO - Chain [1] start processing\n"
     ]
    },
    {
     "name": "stdout",
     "output_type": "stream",
     "text": [
      "Fitting base models\n"
     ]
    },
    {
     "name": "stderr",
     "output_type": "stream",
     "text": [
      "15:15:12 - cmdstanpy - INFO - Chain [1] done processing\n",
      "15:15:13 - cmdstanpy - INFO - Chain [1] start processing\n",
      "15:15:13 - cmdstanpy - INFO - Chain [1] done processing\n",
      "15:15:13 - cmdstanpy - INFO - Chain [1] start processing\n",
      "15:15:13 - cmdstanpy - INFO - Chain [1] done processing\n",
      "15:15:13 - cmdstanpy - INFO - Chain [1] start processing\n",
      "15:15:13 - cmdstanpy - INFO - Chain [1] done processing\n",
      "15:15:13 - cmdstanpy - INFO - Chain [1] start processing\n",
      "15:15:13 - cmdstanpy - INFO - Chain [1] done processing\n",
      "15:15:13 - cmdstanpy - INFO - Chain [1] start processing\n"
     ]
    },
    {
     "name": "stdout",
     "output_type": "stream",
     "text": [
      "Fitting base models\n"
     ]
    },
    {
     "name": "stderr",
     "output_type": "stream",
     "text": [
      "15:15:13 - cmdstanpy - INFO - Chain [1] done processing\n",
      "15:15:13 - cmdstanpy - INFO - Chain [1] start processing\n",
      "15:15:13 - cmdstanpy - INFO - Chain [1] done processing\n",
      "15:15:13 - cmdstanpy - INFO - Chain [1] start processing\n",
      "15:15:13 - cmdstanpy - INFO - Chain [1] done processing\n",
      "15:15:13 - cmdstanpy - INFO - Chain [1] start processing\n",
      "15:15:13 - cmdstanpy - INFO - Chain [1] done processing\n",
      "15:15:13 - cmdstanpy - INFO - Chain [1] start processing\n",
      "15:15:13 - cmdstanpy - INFO - Chain [1] done processing\n",
      "15:15:13 - cmdstanpy - INFO - Chain [1] start processing\n"
     ]
    },
    {
     "name": "stdout",
     "output_type": "stream",
     "text": [
      "Fitting base models\n"
     ]
    },
    {
     "name": "stderr",
     "output_type": "stream",
     "text": [
      "15:15:13 - cmdstanpy - INFO - Chain [1] done processing\n",
      "15:15:13 - cmdstanpy - INFO - Chain [1] start processing\n",
      "15:15:13 - cmdstanpy - INFO - Chain [1] done processing\n",
      "15:15:13 - cmdstanpy - INFO - Chain [1] start processing\n",
      "15:15:13 - cmdstanpy - INFO - Chain [1] done processing\n",
      "15:15:13 - cmdstanpy - INFO - Chain [1] start processing\n",
      "15:15:13 - cmdstanpy - INFO - Chain [1] done processing\n",
      "15:15:13 - cmdstanpy - INFO - Chain [1] start processing\n"
     ]
    },
    {
     "name": "stdout",
     "output_type": "stream",
     "text": [
      "Fitting base models\n"
     ]
    },
    {
     "name": "stderr",
     "output_type": "stream",
     "text": [
      "15:15:13 - cmdstanpy - INFO - Chain [1] done processing\n",
      "15:15:13 - cmdstanpy - INFO - Chain [1] start processing\n",
      "15:15:13 - cmdstanpy - INFO - Chain [1] done processing\n",
      "15:15:13 - cmdstanpy - INFO - Chain [1] start processing\n",
      "15:15:13 - cmdstanpy - INFO - Chain [1] done processing\n",
      "15:15:13 - cmdstanpy - INFO - Chain [1] start processing\n",
      "15:15:14 - cmdstanpy - INFO - Chain [1] done processing\n",
      "15:15:14 - cmdstanpy - INFO - Chain [1] start processing\n",
      "15:15:14 - cmdstanpy - INFO - Chain [1] done processing\n",
      "15:15:14 - cmdstanpy - INFO - Chain [1] start processing\n",
      "15:15:14 - cmdstanpy - INFO - Chain [1] done processing\n"
     ]
    },
    {
     "name": "stdout",
     "output_type": "stream",
     "text": [
      "Fitting base models\n"
     ]
    },
    {
     "name": "stderr",
     "output_type": "stream",
     "text": [
      "15:15:14 - cmdstanpy - INFO - Chain [1] start processing\n",
      "15:15:14 - cmdstanpy - INFO - Chain [1] done processing\n",
      "15:15:14 - cmdstanpy - INFO - Chain [1] start processing\n",
      "15:15:14 - cmdstanpy - INFO - Chain [1] done processing\n",
      "15:15:14 - cmdstanpy - INFO - Chain [1] start processing\n",
      "15:15:14 - cmdstanpy - INFO - Chain [1] done processing\n",
      "15:15:14 - cmdstanpy - INFO - Chain [1] start processing\n",
      "15:15:14 - cmdstanpy - INFO - Chain [1] done processing\n",
      "15:15:14 - cmdstanpy - INFO - Chain [1] start processing\n",
      "15:15:14 - cmdstanpy - INFO - Chain [1] done processing\n",
      "15:15:14 - cmdstanpy - INFO - Chain [1] start processing\n"
     ]
    },
    {
     "name": "stdout",
     "output_type": "stream",
     "text": [
      "Fitting base models\n"
     ]
    },
    {
     "name": "stderr",
     "output_type": "stream",
     "text": [
      "15:15:14 - cmdstanpy - INFO - Chain [1] done processing\n",
      "15:15:14 - cmdstanpy - INFO - Chain [1] start processing\n",
      "15:15:14 - cmdstanpy - INFO - Chain [1] done processing\n",
      "15:15:14 - cmdstanpy - INFO - Chain [1] start processing\n",
      "15:15:14 - cmdstanpy - INFO - Chain [1] done processing\n",
      "15:15:14 - cmdstanpy - INFO - Chain [1] start processing\n",
      "15:15:14 - cmdstanpy - INFO - Chain [1] done processing\n",
      "15:15:14 - cmdstanpy - INFO - Chain [1] start processing\n"
     ]
    },
    {
     "name": "stdout",
     "output_type": "stream",
     "text": [
      "Fitting base models\n"
     ]
    },
    {
     "name": "stderr",
     "output_type": "stream",
     "text": [
      "15:15:14 - cmdstanpy - INFO - Chain [1] done processing\n",
      "15:15:14 - cmdstanpy - INFO - Chain [1] start processing\n",
      "15:15:14 - cmdstanpy - INFO - Chain [1] done processing\n",
      "15:15:14 - cmdstanpy - INFO - Chain [1] start processing\n",
      "15:15:14 - cmdstanpy - INFO - Chain [1] done processing\n",
      "15:15:14 - cmdstanpy - INFO - Chain [1] start processing\n",
      "15:15:14 - cmdstanpy - INFO - Chain [1] done processing\n",
      "15:15:14 - cmdstanpy - INFO - Chain [1] start processing\n",
      "15:15:14 - cmdstanpy - INFO - Chain [1] done processing\n",
      "15:15:14 - cmdstanpy - INFO - Chain [1] start processing\n",
      "15:15:15 - cmdstanpy - INFO - Chain [1] done processing\n",
      "15:15:15 - cmdstanpy - INFO - Chain [1] start processing\n"
     ]
    },
    {
     "name": "stdout",
     "output_type": "stream",
     "text": [
      "Fitting base models\n"
     ]
    },
    {
     "name": "stderr",
     "output_type": "stream",
     "text": [
      "15:15:15 - cmdstanpy - INFO - Chain [1] done processing\n",
      "15:15:15 - cmdstanpy - INFO - Chain [1] start processing\n",
      "15:15:15 - cmdstanpy - INFO - Chain [1] done processing\n",
      "15:15:15 - cmdstanpy - INFO - Chain [1] start processing\n",
      "15:15:15 - cmdstanpy - INFO - Chain [1] done processing\n",
      "15:15:15 - cmdstanpy - INFO - Chain [1] start processing\n",
      "15:15:15 - cmdstanpy - INFO - Chain [1] done processing\n",
      "15:15:15 - cmdstanpy - INFO - Chain [1] start processing\n"
     ]
    },
    {
     "name": "stdout",
     "output_type": "stream",
     "text": [
      "Fitting base models\n"
     ]
    },
    {
     "name": "stderr",
     "output_type": "stream",
     "text": [
      "15:15:15 - cmdstanpy - INFO - Chain [1] done processing\n",
      "15:15:15 - cmdstanpy - INFO - Chain [1] start processing\n",
      "15:15:15 - cmdstanpy - INFO - Chain [1] done processing\n",
      "15:15:15 - cmdstanpy - INFO - Chain [1] start processing\n",
      "15:15:15 - cmdstanpy - INFO - Chain [1] done processing\n",
      "15:15:15 - cmdstanpy - INFO - Chain [1] start processing\n",
      "15:15:15 - cmdstanpy - INFO - Chain [1] done processing\n",
      "15:15:15 - cmdstanpy - INFO - Chain [1] start processing\n",
      "15:15:15 - cmdstanpy - INFO - Chain [1] done processing\n",
      "15:15:15 - cmdstanpy - INFO - Chain [1] start processing\n",
      "15:15:15 - cmdstanpy - INFO - Chain [1] done processing\n",
      "15:15:15 - cmdstanpy - INFO - Chain [1] start processing\n"
     ]
    },
    {
     "name": "stdout",
     "output_type": "stream",
     "text": [
      "Fitting base models\n"
     ]
    },
    {
     "name": "stderr",
     "output_type": "stream",
     "text": [
      "15:15:15 - cmdstanpy - INFO - Chain [1] done processing\n",
      "15:15:15 - cmdstanpy - INFO - Chain [1] start processing\n",
      "15:15:15 - cmdstanpy - INFO - Chain [1] done processing\n",
      "15:15:15 - cmdstanpy - INFO - Chain [1] start processing\n",
      "15:15:15 - cmdstanpy - INFO - Chain [1] done processing\n",
      "15:15:15 - cmdstanpy - INFO - Chain [1] start processing\n",
      "15:15:15 - cmdstanpy - INFO - Chain [1] done processing\n",
      "15:15:15 - cmdstanpy - INFO - Chain [1] start processing\n",
      "15:15:15 - cmdstanpy - INFO - Chain [1] done processing\n",
      "15:15:15 - cmdstanpy - INFO - Chain [1] start processing\n"
     ]
    },
    {
     "name": "stdout",
     "output_type": "stream",
     "text": [
      "Fitting base models\n"
     ]
    },
    {
     "name": "stderr",
     "output_type": "stream",
     "text": [
      "15:15:16 - cmdstanpy - INFO - Chain [1] done processing\n",
      "15:15:16 - cmdstanpy - INFO - Chain [1] start processing\n",
      "15:15:16 - cmdstanpy - INFO - Chain [1] done processing\n",
      "15:15:16 - cmdstanpy - INFO - Chain [1] start processing\n",
      "15:15:16 - cmdstanpy - INFO - Chain [1] done processing\n",
      "15:15:16 - cmdstanpy - INFO - Chain [1] start processing\n",
      "15:15:16 - cmdstanpy - INFO - Chain [1] done processing\n",
      "15:15:16 - cmdstanpy - INFO - Chain [1] start processing\n",
      "15:15:16 - cmdstanpy - INFO - Chain [1] done processing\n",
      "15:15:16 - cmdstanpy - INFO - Chain [1] start processing\n"
     ]
    },
    {
     "name": "stdout",
     "output_type": "stream",
     "text": [
      "Fitting base models\n"
     ]
    },
    {
     "name": "stderr",
     "output_type": "stream",
     "text": [
      "15:15:16 - cmdstanpy - INFO - Chain [1] done processing\n",
      "15:15:16 - cmdstanpy - INFO - Chain [1] start processing\n",
      "15:15:16 - cmdstanpy - INFO - Chain [1] done processing\n",
      "15:15:16 - cmdstanpy - INFO - Chain [1] start processing\n",
      "15:15:16 - cmdstanpy - INFO - Chain [1] done processing\n",
      "15:15:16 - cmdstanpy - INFO - Chain [1] start processing\n",
      "15:15:16 - cmdstanpy - INFO - Chain [1] done processing\n",
      "15:15:16 - cmdstanpy - INFO - Chain [1] start processing\n",
      "15:15:16 - cmdstanpy - INFO - Chain [1] done processing\n",
      "15:15:16 - cmdstanpy - INFO - Chain [1] start processing\n"
     ]
    },
    {
     "name": "stdout",
     "output_type": "stream",
     "text": [
      "Fitting base models\n"
     ]
    },
    {
     "name": "stderr",
     "output_type": "stream",
     "text": [
      "15:15:16 - cmdstanpy - INFO - Chain [1] done processing\n",
      "15:15:16 - cmdstanpy - INFO - Chain [1] start processing\n",
      "15:15:16 - cmdstanpy - INFO - Chain [1] done processing\n",
      "15:15:16 - cmdstanpy - INFO - Chain [1] start processing\n",
      "15:15:16 - cmdstanpy - INFO - Chain [1] done processing\n",
      "15:15:16 - cmdstanpy - INFO - Chain [1] start processing\n",
      "15:15:16 - cmdstanpy - INFO - Chain [1] done processing\n",
      "15:15:16 - cmdstanpy - INFO - Chain [1] start processing\n",
      "15:15:16 - cmdstanpy - INFO - Chain [1] done processing\n",
      "15:15:16 - cmdstanpy - INFO - Chain [1] start processing\n"
     ]
    },
    {
     "name": "stdout",
     "output_type": "stream",
     "text": [
      "Fitting base models\n"
     ]
    },
    {
     "name": "stderr",
     "output_type": "stream",
     "text": [
      "15:15:16 - cmdstanpy - INFO - Chain [1] done processing\n",
      "15:15:16 - cmdstanpy - INFO - Chain [1] start processing\n",
      "15:15:16 - cmdstanpy - INFO - Chain [1] done processing\n",
      "15:15:16 - cmdstanpy - INFO - Chain [1] start processing\n",
      "15:15:17 - cmdstanpy - INFO - Chain [1] done processing\n",
      "15:15:17 - cmdstanpy - INFO - Chain [1] start processing\n",
      "15:15:17 - cmdstanpy - INFO - Chain [1] done processing\n",
      "15:15:17 - cmdstanpy - INFO - Chain [1] start processing\n"
     ]
    },
    {
     "name": "stdout",
     "output_type": "stream",
     "text": [
      "Fitting base models\n"
     ]
    },
    {
     "name": "stderr",
     "output_type": "stream",
     "text": [
      "15:15:17 - cmdstanpy - INFO - Chain [1] done processing\n",
      "15:15:17 - cmdstanpy - INFO - Chain [1] start processing\n",
      "15:15:17 - cmdstanpy - INFO - Chain [1] done processing\n",
      "15:15:17 - cmdstanpy - INFO - Chain [1] start processing\n",
      "15:15:17 - cmdstanpy - INFO - Chain [1] done processing\n",
      "15:15:17 - cmdstanpy - INFO - Chain [1] start processing\n",
      "15:15:17 - cmdstanpy - INFO - Chain [1] done processing\n",
      "15:15:17 - cmdstanpy - INFO - Chain [1] start processing\n",
      "15:15:17 - cmdstanpy - INFO - Chain [1] done processing\n",
      "15:15:17 - cmdstanpy - INFO - Chain [1] start processing\n",
      "15:15:17 - cmdstanpy - INFO - Chain [1] done processing\n",
      "15:15:17 - cmdstanpy - INFO - Chain [1] start processing\n"
     ]
    },
    {
     "name": "stdout",
     "output_type": "stream",
     "text": [
      "Fitting base models\n"
     ]
    },
    {
     "name": "stderr",
     "output_type": "stream",
     "text": [
      "15:15:17 - cmdstanpy - INFO - Chain [1] done processing\n",
      "15:15:17 - cmdstanpy - INFO - Chain [1] start processing\n",
      "15:15:17 - cmdstanpy - INFO - Chain [1] done processing\n",
      "15:15:17 - cmdstanpy - INFO - Chain [1] start processing\n",
      "15:15:17 - cmdstanpy - INFO - Chain [1] done processing\n",
      "15:15:17 - cmdstanpy - INFO - Chain [1] start processing\n",
      "15:15:17 - cmdstanpy - INFO - Chain [1] done processing\n",
      "15:15:17 - cmdstanpy - INFO - Chain [1] start processing\n"
     ]
    },
    {
     "name": "stdout",
     "output_type": "stream",
     "text": [
      "Fitting base models\n"
     ]
    },
    {
     "name": "stderr",
     "output_type": "stream",
     "text": [
      "15:15:17 - cmdstanpy - INFO - Chain [1] done processing\n",
      "15:15:17 - cmdstanpy - INFO - Chain [1] start processing\n",
      "15:15:17 - cmdstanpy - INFO - Chain [1] done processing\n",
      "15:15:17 - cmdstanpy - INFO - Chain [1] start processing\n",
      "15:15:17 - cmdstanpy - INFO - Chain [1] done processing\n",
      "15:15:17 - cmdstanpy - INFO - Chain [1] start processing\n",
      "15:15:17 - cmdstanpy - INFO - Chain [1] done processing\n",
      "15:15:17 - cmdstanpy - INFO - Chain [1] start processing\n",
      "15:15:18 - cmdstanpy - INFO - Chain [1] done processing\n",
      "15:15:18 - cmdstanpy - INFO - Chain [1] start processing\n",
      "15:15:18 - cmdstanpy - INFO - Chain [1] done processing\n"
     ]
    },
    {
     "name": "stdout",
     "output_type": "stream",
     "text": [
      "Fitting base models\n"
     ]
    },
    {
     "name": "stderr",
     "output_type": "stream",
     "text": [
      "15:15:18 - cmdstanpy - INFO - Chain [1] start processing\n",
      "15:15:18 - cmdstanpy - INFO - Chain [1] done processing\n",
      "15:15:18 - cmdstanpy - INFO - Chain [1] start processing\n",
      "15:15:18 - cmdstanpy - INFO - Chain [1] done processing\n",
      "15:15:18 - cmdstanpy - INFO - Chain [1] start processing\n",
      "15:15:18 - cmdstanpy - INFO - Chain [1] done processing\n",
      "15:15:18 - cmdstanpy - INFO - Chain [1] start processing\n",
      "15:15:18 - cmdstanpy - INFO - Chain [1] done processing\n",
      "15:15:18 - cmdstanpy - INFO - Chain [1] start processing\n",
      "15:15:18 - cmdstanpy - INFO - Chain [1] done processing\n",
      "15:15:18 - cmdstanpy - INFO - Chain [1] start processing\n"
     ]
    },
    {
     "name": "stdout",
     "output_type": "stream",
     "text": [
      "Fitting base models\n"
     ]
    },
    {
     "name": "stderr",
     "output_type": "stream",
     "text": [
      "15:15:18 - cmdstanpy - INFO - Chain [1] done processing\n"
     ]
    }
   ],
   "source": [
    "# Run temporal cross validation\n",
    "print(\"Running Temporal Cross Validation...\")\n",
    "print(\"This may take several minutes as each fold trains 5 Prophet models...\")\n",
    "\n",
    "cv_results = cv.evaluate_model(ensemble_model_func, splits, verbose=False)"
   ]
  },
  {
   "cell_type": "code",
   "execution_count": 9,
   "id": "a1b18b24",
   "metadata": {},
   "outputs": [
    {
     "name": "stdout",
     "output_type": "stream",
     "text": [
      "\\n============================================================\n",
      "DETAILED TEMPORAL CROSS VALIDATION ANALYSIS\n",
      "============================================================\n"
     ]
    },
    {
     "data": {
      "image/png": "[encoded data removed]",
      "text/plain": [
       "<Figure size 1500x600 with 2 Axes>"
      ]
     },
     "metadata": {},
     "output_type": "display_data"
    },
    {
     "name": "stdout",
     "output_type": "stream",
     "text": [
      "\\nFold-by-fold breakdown:\n",
      "--------------------------------------------------------------------------------\n",
      "Fold   Test Period               RMSE       Train Size   Test Size \n",
      "--------------------------------------------------------------------------------\n",
      "1      2011-01-01 to 2011-03-01  7475       120          30        \n",
      "2      2011-04-01 to 2011-06-01  5830       120          30        \n",
      "3      2011-07-01 to 2011-09-01  6532       120          30        \n",
      "4      2011-10-01 to 2011-12-01  4287       120          30        \n",
      "5      2012-01-01 to 2012-03-01  4144       120          30        \n",
      "6      2012-04-01 to 2012-06-01  5292       120          30        \n",
      "7      2012-07-01 to 2012-09-01  4839       120          30        \n",
      "8      2012-10-01 to 2012-12-01  4755       120          30        \n",
      "9      2013-01-01 to 2013-03-01  19678      120          30        \n",
      "10     2013-04-01 to 2013-06-01  13716      120          30        \n",
      "11     2013-07-01 to 2013-09-01  9478       120          30        \n",
      "12     2013-10-01 to 2013-12-01  13322      120          30        \n",
      "13     2014-01-01 to 2014-03-01  8964       120          30        \n",
      "14     2014-04-01 to 2014-06-01  24386      120          30        \n",
      "15     2014-07-01 to 2014-09-01  12856      120          30        \n",
      "16     2014-10-01 to 2014-12-01  9526       120          30        \n",
      "17     2015-01-01 to 2015-03-01  6842       120          30        \n",
      "18     2015-04-01 to 2015-06-01  8226       120          30        \n",
      "19     2015-07-01 to 2015-09-01  10744      120          30        \n",
      "20     2015-10-01 to 2015-12-01  3885       120          30        \n",
      "21     2016-01-01 to 2016-03-01  8742       120          30        \n",
      "22     2016-04-01 to 2016-06-01  9923       120          30        \n",
      "23     2016-07-01 to 2016-09-01  7580       120          30        \n",
      "24     2016-10-01 to 2016-12-01  2996       120          30        \n",
      "25     2017-01-01 to 2017-03-01  3568       120          30        \n",
      "26     2017-04-01 to 2017-06-01  10151      120          30        \n",
      "27     2017-07-01 to 2017-09-01  3494       120          30        \n",
      "28     2017-10-01 to 2017-12-01  5858       120          30        \n",
      "29     2018-01-01 to 2018-03-01  7977       120          30        \n",
      "30     2018-04-01 to 2018-06-01  5259       120          30        \n",
      "31     2018-07-01 to 2018-09-01  3533       120          30        \n",
      "32     2018-10-01 to 2018-12-01  4375       120          30        \n",
      "33     2019-01-01 to 2019-03-01  3535       120          30        \n",
      "34     2019-04-01 to 2019-06-01  6639       120          30        \n",
      "35     2019-07-01 to 2019-09-01  5707       120          30        \n",
      "36     2019-10-01 to 2019-12-01  1781       120          30        \n",
      "37     2020-01-01 to 2020-03-01  3719       120          30        \n",
      "38     2021-07-01 to 2021-09-01  4338       120          30        \n",
      "39     2021-10-01 to 2021-12-01  8254       120          30        \n",
      "40     2022-01-01 to 2022-03-01  4997       120          30        \n",
      "41     2022-04-01 to 2022-06-01  4449       120          30        \n",
      "42     2022-07-01 to 2022-09-01  4274       120          30        \n",
      "43     2022-10-01 to 2022-12-01  9366       120          30        \n",
      "44     2023-01-01 to 2023-03-01  7641       120          30        \n",
      "45     2023-04-01 to 2023-06-01  7085       120          30        \n",
      "46     2023-07-01 to 2023-09-01  10594      120          30        \n",
      "47     2023-10-01 to 2023-12-01  10604      120          30        \n",
      "48     2024-01-01 to 2024-03-01  27048      120          30        \n",
      "49     2024-04-01 to 2024-06-01  6902       120          30        \n",
      "50     2024-07-01 to 2024-09-01  10127      120          30        \n",
      "51     2024-10-01 to 2024-12-01  12246      120          30        \n",
      "52     2025-01-01 to 2025-03-01  6645       120          30        \n",
      "53     2025-04-01 to 2025-06-01  6636       120          30        \n",
      "\\n============================================================\n",
      "COMPARISON WITH SINGLE HOLDOUT VALIDATION\n",
      "============================================================\n",
      "Temporal CV Average RMSE: 7940 ± 4843\n"
     ]
    }
   ],
   "source": [
    "# Analyze and visualize CV results\n",
    "print(\"\\\\n\" + \"=\"*60)\n",
    "print(\"DETAILED TEMPORAL CROSS VALIDATION ANALYSIS\")\n",
    "print(\"=\"*60)\n",
    "\n",
    "# Extract fold-wise results for visualization\n",
    "fold_numbers = [r['fold'] for r in cv_results['fold_results']]\n",
    "fold_rmses = [r['rmse'] for r in cv_results['fold_results']]\n",
    "\n",
    "# Create visualization of CV results\n",
    "fig, (ax1, ax2) = plt.subplots(1, 2, figsize=(15, 6))\n",
    "\n",
    "# Plot 1: RMSE by fold\n",
    "ax1.plot(fold_numbers, fold_rmses, 'o-', linewidth=2, markersize=8)\n",
    "ax1.axhline(y=cv_results['mean_rmse'], color='red', linestyle='--', \n",
    "            label=f'Mean RMSE: {cv_results[\"mean_rmse\"]:.0f}')\n",
    "ax1.fill_between(fold_numbers, \n",
    "                    cv_results['mean_rmse'] - cv_results['std_rmse'],\n",
    "                    cv_results['mean_rmse'] + cv_results['std_rmse'],\n",
    "                    alpha=0.2, color='red', label=f'±1 Std: {cv_results[\"std_rmse\"]:.0f}')\n",
    "ax1.set_xlabel('Fold Number')\n",
    "ax1.set_ylabel('RMSE')\n",
    "ax1.set_title('RMSE Across CV Folds')\n",
    "ax1.legend()\n",
    "ax1.grid(True, alpha=0.3)\n",
    "\n",
    "# Plot 2: Vehicle class performance comparison\n",
    "vehicle_stats = cv_results['avg_vehicle_rmses']\n",
    "if vehicle_stats:\n",
    "    vehicles = list(vehicle_stats.keys())\n",
    "    means = [vehicle_stats[v]['mean'] for v in vehicles]\n",
    "    stds = [vehicle_stats[v]['std'] for v in vehicles]\n",
    "    \n",
    "    bars = ax2.bar(vehicles, means, yerr=stds, capsize=5, alpha=0.7)\n",
    "    ax2.set_xlabel('Vehicle Class')\n",
    "    ax2.set_ylabel('Average RMSE')\n",
    "    ax2.set_title('Average RMSE by Vehicle Class')\n",
    "    ax2.tick_params(axis='x', rotation=45)\n",
    "    \n",
    "    # Add value labels on bars\n",
    "    for bar, mean, std in zip(bars, means, stds):\n",
    "        height = bar.get_height()\n",
    "        ax2.text(bar.get_x() + bar.get_width()/2., height + std + 500,\n",
    "                    f'{mean:.0f}±{std:.0f}',\n",
    "                    ha='center', va='bottom', fontsize=9)\n",
    "\n",
    "plt.tight_layout()\n",
    "plt.show()\n",
    "\n",
    "# Print detailed fold-by-fold breakdown\n",
    "print(\"\\\\nFold-by-fold breakdown:\")\n",
    "print(\"-\" * 80)\n",
    "print(f\"{'Fold':<6} {'Test Period':<25} {'RMSE':<10} {'Train Size':<12} {'Test Size':<10}\")\n",
    "print(\"-\" * 80)\n",
    "\n",
    "for result in cv_results['fold_results']:\n",
    "    print(f\"{result['fold']:<6} {result['test_period']:<25} \"\n",
    "            f\"{result['rmse']:<10.0f} {result['train_size']:<12} {result['test_size']:<10}\")\n",
    "\n",
    "# Compare with single holdout validation\n",
    "print(f\"\\\\n{'='*60}\")\n",
    "print(\"COMPARISON WITH SINGLE HOLDOUT VALIDATION\")\n",
    "print(f\"{'='*60}\")\n",
    "print(f\"Temporal CV Average RMSE: {cv_results['mean_rmse']:.0f} ± {cv_results['std_rmse']:.0f}\")"
   ]
  },
  {
   "cell_type": "markdown",
   "id": "74042f6b",
   "metadata": {},
   "source": [
    "Considering the highly volatile nature of COE prices, the ensemble model produces reasonable predictions. Considering current Category A and B COE prices of around $100k, the RMSE is <8% of the actual COE price."
   ]
  },
  {
   "cell_type": "markdown",
   "id": "a9dea3a9",
   "metadata": {},
   "source": [
    "Next, we do a final prediction for the most recent data:"
   ]
  },
  {
   "cell_type": "code",
   "execution_count": 10,
   "id": "5fdab7ea",
   "metadata": {},
   "outputs": [],
   "source": [
    "def evaluate_on_vehicle_classes(model, df):\n",
    "    predictions = model.predict(df)\n",
    "\n",
    "    # Calculate RMSE for each vehicle class\n",
    "    vehicle_classes = ['Category A', 'Category B', 'Category C', 'Category D', 'Category E']\n",
    "    rmses = {}\n",
    "    for vehicle_class in vehicle_classes:\n",
    "        # Filter test data and predictions for this vehicle class\n",
    "        mask = df[f'vehicle_class_{vehicle_class}'] == True\n",
    "        class_df = df[mask]\n",
    "        class_pred = predictions[mask]\n",
    "        \n",
    "        # Calculate RMSE if there are samples for this class\n",
    "        if len(class_df) > 0:\n",
    "            rmses[vehicle_class] = root_mean_squared_error(class_df['y'], class_pred['yhat'])\n",
    "\n",
    "    # Calculate overall RMSE\n",
    "    rmses[\"Overall\"] = root_mean_squared_error(df['y'], predictions['yhat'])\n",
    "    return rmses"
   ]
  },
  {
   "cell_type": "code",
   "execution_count": 11,
   "id": "4b74e1f9",
   "metadata": {},
   "outputs": [
    {
     "name": "stderr",
     "output_type": "stream",
     "text": [
      "15:15:18 - cmdstanpy - INFO - Chain [1] start processing\n",
      "15:15:18 - cmdstanpy - INFO - Chain [1] done processing\n",
      "15:15:18 - cmdstanpy - INFO - Chain [1] start processing\n"
     ]
    },
    {
     "name": "stdout",
     "output_type": "stream",
     "text": [
      "Fitting base models\n"
     ]
    },
    {
     "name": "stderr",
     "output_type": "stream",
     "text": [
      "15:15:18 - cmdstanpy - INFO - Chain [1] done processing\n",
      "15:15:18 - cmdstanpy - INFO - Chain [1] start processing\n",
      "15:15:18 - cmdstanpy - INFO - Chain [1] done processing\n",
      "15:15:18 - cmdstanpy - INFO - Chain [1] start processing\n",
      "15:15:18 - cmdstanpy - INFO - Chain [1] done processing\n",
      "15:15:18 - cmdstanpy - INFO - Chain [1] start processing\n",
      "15:15:18 - cmdstanpy - INFO - Chain [1] done processing\n"
     ]
    },
    {
     "name": "stdout",
     "output_type": "stream",
     "text": [
      "\n",
      "Final Split Performance:\n",
      "Train period: 2024-04-01 to 2025-03-01\n",
      "Test period: 2025-04-01 to 2025-06-01\n"
     ]
    },
    {
     "data": {
      "text/plain": [
       "{'Category A': 13983.504742800775,\n",
       " 'Category B': 4157.860362552385,\n",
       " 'Category C': 2014.7867714557915,\n",
       " 'Category D': 780.6877533401071,\n",
       " 'Category E': 1650.3824857157354,\n",
       " 'Overall': 6636.547432787951}"
      ]
     },
     "execution_count": 11,
     "metadata": {},
     "output_type": "execute_result"
    }
   ],
   "source": [
    "# Fit model for the last split\n",
    "last_split = splits[-1]\n",
    "train_df = last_split['train_df']\n",
    "test_df = last_split['test_df']\n",
    "\n",
    "# Train ensemble model on the final split\n",
    "vehicle_classes = ['Category A', 'Category B', 'Category C', 'Category D', 'Category E']\n",
    "regressors = ['bidding_no', 'quota', 'bids_received']\n",
    "ensemble_model = EnsembleModel(vehicle_classes, regressors)\n",
    "ensemble_model.fit(train_df)\n",
    "\n",
    "# Get predictions\n",
    "predictions = ensemble_model.predict(test_df)\n",
    "test_rmses = evaluate_on_vehicle_classes(ensemble_model, test_df)\n",
    "\n",
    "print(f\"\\nFinal Split Performance:\")\n",
    "print(f\"Train period: {last_split['train_start'].date()} to {last_split['train_end'].date()}\")\n",
    "print(f\"Test period: {last_split['test_start'].date()} to {last_split['test_end'].date()}\")\n",
    "\n",
    "test_rmses"
   ]
  },
  {
   "cell_type": "markdown",
   "id": "b926129f",
   "metadata": {
    "vscode": {
     "languageId": "raw"
    }
   },
   "source": [
    "## Effect of COE Quota on Price\n",
    "\n",
    "### Policy Simulation Framework for Quota Sensitivity Analysis\n",
    "\n",
    "To understand how quota adjustments impact COE prices, we implement a controlled simulation approach that isolates the quota effect while holding other market factors constant. This methodology directly addresses LTA's need to predict price outcomes from policy interventions.\n",
    "\n",
    "### Simulation Design\n",
    "\n",
    "**Quota Range Selection**: We test quotas from 100 to 1,000 certificates per bidding exercise\n",
    "\n",
    "**Control Variables**: For each vehicle category, we create standardized scenarios using:\n",
    "- **Average bidding number**: Controls for time trend effects\n",
    "- **Average bids received**: Standardizes demand proxy across scenarios\n",
    "- **Fixed prediction date**: April 2025 (recent training data context)\n",
    "\n",
    "This approach ensures that quota is the primary variable driving price changes, enabling clean policy impact measurement.\n"
   ]
  },
  {
   "cell_type": "code",
   "execution_count": 16,
   "id": "eca7601d",
   "metadata": {},
   "outputs": [
    {
     "name": "stdout",
     "output_type": "stream",
     "text": [
      "Input was a Series - converted to DataFrame\n",
      "Input was a Series - converted to DataFrame\n",
      "Input was a Series - converted to DataFrame\n",
      "Input was a Series - converted to DataFrame\n",
      "Input was a Series - converted to DataFrame\n",
      "Input was a Series - converted to DataFrame\n",
      "Input was a Series - converted to DataFrame\n",
      "Input was a Series - converted to DataFrame\n",
      "Input was a Series - converted to DataFrame\n",
      "Input was a Series - converted to DataFrame\n",
      "Input was a Series - converted to DataFrame\n",
      "Input was a Series - converted to DataFrame\n",
      "Input was a Series - converted to DataFrame\n",
      "Input was a Series - converted to DataFrame\n",
      "Input was a Series - converted to DataFrame\n",
      "Input was a Series - converted to DataFrame\n",
      "Input was a Series - converted to DataFrame\n",
      "Input was a Series - converted to DataFrame\n",
      "Input was a Series - converted to DataFrame\n",
      "Input was a Series - converted to DataFrame\n",
      "Input was a Series - converted to DataFrame\n",
      "Input was a Series - converted to DataFrame\n",
      "Input was a Series - converted to DataFrame\n",
      "Input was a Series - converted to DataFrame\n",
      "Input was a Series - converted to DataFrame\n",
      "Input was a Series - converted to DataFrame\n",
      "Input was a Series - converted to DataFrame\n",
      "Input was a Series - converted to DataFrame\n",
      "Input was a Series - converted to DataFrame\n",
      "Input was a Series - converted to DataFrame\n"
     ]
    },
    {
     "data": {
      "image/png": "[encoded data removed]",
      "text/plain": [
       "<Figure size 1500x2000 with 5 Axes>"
      ]
     },
     "metadata": {},
     "output_type": "display_data"
    }
   ],
   "source": [
    "quota_values = [100, 200, 400, 600, 800, 1000]\n",
    "vehicle_classes = ['Category A', 'Category B', 'Category C', 'Category D', 'Category E']\n",
    "\n",
    "# Create subplots\n",
    "fig, axes = plt.subplots(3, 2, figsize=(15, 20))\n",
    "axes = axes.flatten()\n",
    "\n",
    "# Loop through each vehicle class\n",
    "for i, vehicle_class in enumerate(vehicle_classes):\n",
    "    yhats = []\n",
    "    \n",
    "    # Create dummy dataset using averages from this vehicle class\n",
    "    dummy_df = test_df.copy()\n",
    "    dummy_df = dummy_df[dummy_df[f'vehicle_class_{vehicle_class}'] == True]\n",
    "    dummy_df['bidding_no'] = dummy_df['bidding_no'].mean().round()\n",
    "    dummy_df['quota'] = dummy_df['quota'].mean().round() \n",
    "    dummy_df['bids_received'] = dummy_df['bids_received'].mean().round()\n",
    "    dummy_df = dummy_df.drop('y', axis=1)\n",
    "    dummy_df = dummy_df.iloc[0]\n",
    "    dummy_df['ds'] = '2025-04-01'\n",
    "\n",
    "    # Get predictions for different quota values\n",
    "    for quota in quota_values:\n",
    "        dummy_df['quota'] = quota\n",
    "        yhats.append(ensemble_model.predict(dummy_df)[\"yhat\"])\n",
    "\n",
    "    # Plot in corresponding subplot\n",
    "    axes[i].plot(quota_values, yhats, marker='o')\n",
    "    axes[i].set_xlabel('Quota')\n",
    "    axes[i].set_ylabel('COE Price (SGD)')\n",
    "    axes[i].set_title(f'Quota vs Predicted COE Price - {vehicle_class}')\n",
    "    axes[i].grid(True)\n",
    "\n",
    "# Remove the empty subplot\n",
    "axes[-1].remove()\n",
    "\n",
    "plt.tight_layout()\n",
    "plt.show()"
   ]
  },
  {
   "cell_type": "markdown",
   "id": "dca1a5b6",
   "metadata": {},
   "source": [
    "Conclusions:\n",
    "- Increasing quota for decreases price for all COE categories except Category C (Goods Vehicles and Buses)\n",
    "- One possible reason is that the increase in quota results in more competitive and aggressive bids within the categories\n",
    "- While increasing quota might seem like an obvious way to bring down COE prices for more categories, it is not a practical solution as the resulting increase in number of vehicles will lead to congestion"
   ]
  },
  {
   "cell_type": "markdown",
   "id": "67f9ef64",
   "metadata": {},
   "source": [
    "\n",
    "### Interpretation of Results\n",
    "\n",
    "**Category A, B, D and E**:\n",
    "- Strong negative correlation between quota and price\n",
    "- Private car buyers are price-sensitive and can defer purchase\n",
    "- While these are clear targets for quota-based COE stabilisation, rapid quota expansions may risk an excess number of vehicles on the road, leading to congestion\n",
    "\n",
    "**Category C (Commercial Vehicles - Goods & Buses)**:\n",
    "- ANOMALOUS - Price may increase with higher quotas\n",
    "- Companies may increase vehicle investments when quotas signal policy support\n",
    "- Commercial bidders may bid more aggressively when quota availability increases"
   ]
  },
  {
   "cell_type": "markdown",
   "id": "d2100f37",
   "metadata": {},
   "source": []
  }
 ],
 "metadata": {
  "kernelspec": {
   "display_name": "coe",
   "language": "python",
   "name": "python3"
  },
  "language_info": {
   "codemirror_mode": {
    "name": "ipython",
    "version": 3
   },
   "file_extension": ".py",
   "mimetype": "text/x-python",
   "name": "python",
   "nbconvert_exporter": "python",
   "pygments_lexer": "ipython3",
   "version": "3.10.18"
  }
 },
 "nbformat": 4,
 "nbformat_minor": 5
}
